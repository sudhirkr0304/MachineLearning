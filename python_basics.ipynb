{
  "nbformat": 4,
  "nbformat_minor": 0,
  "metadata": {
    "colab": {
      "name": "python_basics.ipynb",
      "provenance": [],
      "private_outputs": true,
      "authorship_tag": "ABX9TyNoDTyItyUAPFOHQu5vJTie",
      "include_colab_link": true
    },
    "kernelspec": {
      "name": "python3",
      "display_name": "Python 3"
    }
  },
  "cells": [
    {
      "cell_type": "markdown",
      "metadata": {
        "id": "view-in-github",
        "colab_type": "text"
      },
      "source": [
        "<a href=\"https://colab.research.google.com/github/sudhirkr0304/MachineLearning/blob/master/python_basics.ipynb\" target=\"_parent\"><img src=\"https://colab.research.google.com/assets/colab-badge.svg\" alt=\"Open In Colab\"/></a>"
      ]
    },
    {
      "cell_type": "code",
      "metadata": {
        "id": "nI07yH4WAppM"
      },
      "source": [
        "import math\n",
        "print(math.sqrt(25))"
      ],
      "execution_count": null,
      "outputs": []
    },
    {
      "cell_type": "code",
      "metadata": {
        "id": "_QOWRw-bBA-E"
      },
      "source": [
        "import numpy as np\n",
        "content = dir(math)\n",
        "print(content)"
      ],
      "execution_count": null,
      "outputs": []
    },
    {
      "cell_type": "code",
      "metadata": {
        "id": "aCSCR3ZsBQsk"
      },
      "source": [
        "print(type(2))\n",
        "print(type(2.0))\n",
        "print(type(\"sudhir\"))\n",
        "print(type(True))\n",
        "print(type(None))\n"
      ],
      "execution_count": null,
      "outputs": []
    },
    {
      "cell_type": "code",
      "metadata": {
        "id": "Bsr2C39YBuKY"
      },
      "source": [
        "print(isinstance(2.0, int))\n",
        "print(isinstance(2.0 , float))"
      ],
      "execution_count": null,
      "outputs": []
    },
    {
      "cell_type": "code",
      "metadata": {
        "id": "GqXgfDh6B9GF"
      },
      "source": [
        "print(str(2))\n",
        "print(str(2.9))\n",
        "print(str(\"sudhir\"))"
      ],
      "execution_count": null,
      "outputs": []
    },
    {
      "cell_type": "code",
      "metadata": {
        "id": "90MPf4o_CH8y"
      },
      "source": [
        "print(2+3)\n",
        "print(2-3)\n",
        "print(2*3)\n",
        "print(2/3)\n",
        "print(2//3)\n",
        "print(2%3)\n",
        "print(2**3)\n"
      ],
      "execution_count": null,
      "outputs": []
    },
    {
      "cell_type": "code",
      "metadata": {
        "id": "JFmZEEGkCVqL"
      },
      "source": [
        "print( 2 == 3)\n",
        "print(2 != 3)\n",
        "print ( 2 < 3)\n",
        "print( 2 <= 3)\n"
      ],
      "execution_count": null,
      "outputs": []
    },
    {
      "cell_type": "code",
      "metadata": {
        "id": "stDUcMy4CfPF"
      },
      "source": [
        "if 5 < 10 :\n",
        "  print(\"5 is less than 10\")\n",
        "else :\n",
        "  print(\"5 is greater than 10 \")"
      ],
      "execution_count": null,
      "outputs": []
    },
    {
      "cell_type": "code",
      "metadata": {
        "id": "8QqoqfiJCtHT"
      },
      "source": [
        "n = int(input())\n",
        "m = int(input())\n",
        "\n",
        "if n < m :\n",
        "  print(\"n is less than m\");\n",
        "else :\n",
        "  print(\"n is not less than m\")"
      ],
      "execution_count": null,
      "outputs": []
    },
    {
      "cell_type": "markdown",
      "metadata": {
        "id": "173YUfrmJQVj"
      },
      "source": [
        "[**Sets in python**](https://docs.python.org/3/tutorial/datastructures.html#sets)\n",
        "\n",
        "1.   set in python can be called as the simpler version of dictionary.\n",
        "2.   set is like dictionary but it has only keys , no values\n"
      ]
    },
    {
      "cell_type": "code",
      "metadata": {
        "id": "QzU0kVtqKdPi"
      },
      "source": [
        "empty_set = set()\n",
        "empty_set2 = {}\n",
        "\n",
        "set1 = { 2 , 4 , 6 , 8 , 10 , 12 , 14 , 16 , 18 , 20}\n",
        "set2 = { 4 , 8 , 12 , 16 , 20}\n",
        "\n",
        "print(set1 & set2)\n",
        "print(set1 | set2)\n",
        "print(set1 - set2)\n",
        "\n",
        "set3 = set([6, 12 , 18 , 24, 30])\n",
        "print(set3)\n"
      ],
      "execution_count": null,
      "outputs": []
    },
    {
      "cell_type": "markdown",
      "metadata": {
        "id": "bsow0u1aLcbZ"
      },
      "source": [
        "**[Dictionary in python](https://docs.python.org/3/tutorial/datastructures.html#dictionaries)**\n",
        "\n",
        "> python dictionary is set of key value pairs\n",
        "\n",
        "> keys will always be unique\n",
        "\n",
        "> \n",
        "\n",
        "\n",
        "\n",
        "\n",
        "\n"
      ]
    },
    {
      "cell_type": "code",
      "metadata": {
        "id": "KSG9MsDXL__e"
      },
      "source": [
        "empty_dict = {}\n",
        "empty_dict = dict()\n",
        "\n",
        "\n",
        "dict1 = { \"name\" : \"sudhir\" , \"age\" : 21 , \"address\" : \"bihar\"}\n",
        "print(dict1)\n",
        "print(dict1.keys())\n",
        "print(dict1.values())\n",
        "print(dict1.items())\n",
        "print(\"name\" in dict1)"
      ],
      "execution_count": null,
      "outputs": []
    },
    {
      "cell_type": "code",
      "metadata": {
        "id": "2iVLUKHGNKcU"
      },
      "source": [
        "list1 = [ 1 , 2 , 3 , 4, 5 , 6 , 7 , 8 , 9]\n"
      ],
      "execution_count": null,
      "outputs": []
    },
    {
      "cell_type": "code",
      "metadata": {
        "id": "Kj-px3rXPgXP"
      },
      "source": [
        "# range returns a list of integers\n",
        "range(0, 3) # returns [0, 1, 2]: includes first value but excludes second value\n",
        "range(3) # same thing: starting at zero is the default\n",
        "range(0, 5, 2) # returns [0, 2, 4]: third argument specifies the 'stride'\n",
        "# for loop (not recommended)\n",
        "fruits = ['apple', 'banana', 'cherry']\n",
        "for i in range(len(fruits)):\n",
        "  print(fruits[i].upper())\n",
        "# alternative for loop (recommended style)\n",
        "for fruit in fruits:\n",
        "  print(fruit.upper())\n",
        "# use range when iterating over a large sequence to avoid actually creating the integer list in memory\n",
        "for i in range(10**6):\n",
        "  pass\n",
        "# iterate through two things at once (using tuple unpacking)\n",
        "family = {'dad':'homer', 'mom':'marge', 'size':6}\n",
        "for key, value in family.items():\n",
        "  print(key, value)\n",
        "# use enumerate if you need to access the index value within the loop\n",
        "for index, fruit in enumerate(fruits):\n",
        "  print(index, fruit)\n",
        "# for/else loop\n",
        "for fruit in fruits:\n",
        "  if fruit == 'banana':\n",
        "    print(\"Found the banana!\")\n",
        "    break # exit the loop and skip the 'else' block\n",
        "else:\n",
        "  # this block executes ONLY if the for loop completes without hitting 'break'\n",
        "  print(\"Can't find the banana\")\n",
        "# while loop\n",
        "count = 0\n",
        "while count < 5:\n",
        "  print(\"This will print 5 times\")\n",
        "  count += 1 # equivalent to 'count = count + 1'"
      ],
      "execution_count": null,
      "outputs": []
    }
  ]
}